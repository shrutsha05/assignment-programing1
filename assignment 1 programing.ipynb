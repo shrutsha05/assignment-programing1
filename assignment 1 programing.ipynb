{
 "cells": [
  {
   "cell_type": "code",
   "execution_count": 3,
   "id": "7e1916d6",
   "metadata": {},
   "outputs": [
    {
     "name": "stdout",
     "output_type": "stream",
     "text": [
      "hello python\n"
     ]
    }
   ],
   "source": [
    "#q1\n",
    "s = \"hello python\"\n",
    "print(s)"
   ]
  },
  {
   "cell_type": "code",
   "execution_count": null,
   "id": "166747c1",
   "metadata": {},
   "outputs": [],
   "source": [
    "#q2\n",
    "\n",
    "a = int(input())\n",
    "\n",
    "b = int(input())\n",
    "c = a+b\n",
    "print(c)\n",
    "if (a>b):\n",
    "    d = a/b\n",
    "    print(d)\n",
    "else:\n",
    "    e = b/a\n",
    "    print(e)\n",
    "\n"
   ]
  },
  {
   "cell_type": "code",
   "execution_count": 2,
   "id": "8fbf3afd",
   "metadata": {},
   "outputs": [
    {
     "name": "stdout",
     "output_type": "stream",
     "text": [
      "enter the value of height and base:\n",
      "6\n",
      "6\n",
      "the area of the triangle is is 18.0\n"
     ]
    }
   ],
   "source": [
    "#q3\n",
    "print(\"enter the value of height and base:\")\n",
    "h = int(input())\n",
    "b = int(input())\n",
    "a = .5 * b * h\n",
    "print(\"the area of the triangle is is\", a)"
   ]
  },
  {
   "cell_type": "code",
   "execution_count": 5,
   "id": "aaec4683",
   "metadata": {},
   "outputs": [
    {
     "name": "stdout",
     "output_type": "stream",
     "text": [
      "enter the numbers to be swapped\n",
      "9\n",
      "7\n",
      "the swapped numbers are \n",
      " 7 \n",
      " 9\n"
     ]
    }
   ],
   "source": [
    "#q4\n",
    "print(\"enter the numbers to be swapped\")\n",
    "a = int(input())\n",
    "b = int(input())\n",
    "c = a\n",
    "a = b\n",
    "b = c\n",
    "print(\"the swapped numbers are\", \"\\n\", a ,\"\\n\" ,b)"
   ]
  },
  {
   "cell_type": "code",
   "execution_count": null,
   "id": "4d287d13",
   "metadata": {},
   "outputs": [],
   "source": [
    "#q5\n",
    "import random n = random.randint(0,22)\n",
    "print(n)"
   ]
  },
  {
   "cell_type": "code",
   "execution_count": null,
   "id": "b9c62c53",
   "metadata": {},
   "outputs": [],
   "source": []
  }
 ],
 "metadata": {
  "kernelspec": {
   "display_name": "Python 3 (ipykernel)",
   "language": "python",
   "name": "python3"
  },
  "language_info": {
   "codemirror_mode": {
    "name": "ipython",
    "version": 3
   },
   "file_extension": ".py",
   "mimetype": "text/x-python",
   "name": "python",
   "nbconvert_exporter": "python",
   "pygments_lexer": "ipython3",
   "version": "3.9.7"
  }
 },
 "nbformat": 4,
 "nbformat_minor": 5
}
